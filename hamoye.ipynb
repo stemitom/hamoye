{
 "metadata": {
  "language_info": {
   "codemirror_mode": {
    "name": "ipython",
    "version": 3
   },
   "file_extension": ".py",
   "mimetype": "text/x-python",
   "name": "python",
   "nbconvert_exporter": "python",
   "pygments_lexer": "ipython3",
   "version": "3.8.8-final"
  },
  "orig_nbformat": 2,
  "kernelspec": {
   "name": "python38364bit81f42491069946e7a1b48c0460da269f",
   "display_name": "Python 3.8.3 64-bit"
  }
 },
 "nbformat": 4,
 "nbformat_minor": 2,
 "cells": [
  {
   "cell_type": "code",
   "execution_count": 2,
   "metadata": {},
   "outputs": [],
   "source": [
    "import pandas as pd\n",
    "import numpy as np\n",
    "import sklearn"
   ]
  },
  {
   "cell_type": "code",
   "execution_count": 3,
   "metadata": {},
   "outputs": [],
   "source": [
    "data = pd.read_csv(\"data/fuel_data.csv\")"
   ]
  },
  {
   "cell_type": "code",
   "execution_count": 4,
   "metadata": {},
   "outputs": [
    {
     "output_type": "stream",
     "name": "stdout",
     "text": [
      "<class 'pandas.core.frame.DataFrame'>\nRangeIndex: 29523 entries, 0 to 29522\nData columns (total 11 columns):\n #   Column                        Non-Null Count  Dtype  \n---  ------                        --------------  -----  \n 0   record_id                     29523 non-null  object \n 1   utility_id_ferc1              29523 non-null  int64  \n 2   report_year                   29523 non-null  int64  \n 3   plant_name_ferc1              29523 non-null  object \n 4   fuel_type_code_pudl           29523 non-null  object \n 5   fuel_unit                     29343 non-null  object \n 6   fuel_qty_burned               29523 non-null  float64\n 7   fuel_mmbtu_per_unit           29523 non-null  float64\n 8   fuel_cost_per_unit_burned     29523 non-null  float64\n 9   fuel_cost_per_unit_delivered  29523 non-null  float64\n 10  fuel_cost_per_mmbtu           29523 non-null  float64\ndtypes: float64(5), int64(2), object(4)\nmemory usage: 2.5+ MB\n"
     ]
    }
   ],
   "source": [
    "data.info()"
   ]
  },
  {
   "cell_type": "code",
   "execution_count": 11,
   "metadata": {},
   "outputs": [
    {
     "output_type": "execute_result",
     "data": {
      "text/plain": [
       "       utility_id_ferc1   report_year  fuel_qty_burned  fuel_mmbtu_per_unit  \\\n",
       "count      29523.000000  29523.000000     2.952300e+04         29523.000000   \n",
       "mean         118.601836   2005.806050     2.622119e+06             8.492111   \n",
       "std           74.178353      7.025483     9.118004e+06            10.600220   \n",
       "min            1.000000   1994.000000     1.000000e+00             0.000001   \n",
       "25%           55.000000   2000.000000     1.381700e+04             1.024000   \n",
       "50%          122.000000   2006.000000     2.533220e+05             5.762694   \n",
       "75%          176.000000   2012.000000     1.424034e+06            17.006000   \n",
       "max          514.000000   2018.000000     5.558942e+08           341.260000   \n",
       "\n",
       "       fuel_cost_per_unit_burned  fuel_cost_per_unit_delivered  \\\n",
       "count               29523.000000                  2.952300e+04   \n",
       "mean                  208.649031                  9.175704e+02   \n",
       "std                  2854.490090                  6.877593e+04   \n",
       "min                  -276.080000                 -8.749370e+02   \n",
       "25%                     5.207000                  3.778500e+00   \n",
       "50%                    26.000000                  1.737100e+01   \n",
       "75%                    47.113000                  4.213700e+01   \n",
       "max                139358.000000                  7.964521e+06   \n",
       "\n",
       "       fuel_cost_per_mmbtu  \n",
       "count         29523.000000  \n",
       "mean             19.304354  \n",
       "std            2091.540939  \n",
       "min             -41.501000  \n",
       "25%               1.940000  \n",
       "50%               4.127000  \n",
       "75%               7.745000  \n",
       "max          359278.000000  "
      ],
      "text/html": "<div>\n<style scoped>\n    .dataframe tbody tr th:only-of-type {\n        vertical-align: middle;\n    }\n\n    .dataframe tbody tr th {\n        vertical-align: top;\n    }\n\n    .dataframe thead th {\n        text-align: right;\n    }\n</style>\n<table border=\"1\" class=\"dataframe\">\n  <thead>\n    <tr style=\"text-align: right;\">\n      <th></th>\n      <th>utility_id_ferc1</th>\n      <th>report_year</th>\n      <th>fuel_qty_burned</th>\n      <th>fuel_mmbtu_per_unit</th>\n      <th>fuel_cost_per_unit_burned</th>\n      <th>fuel_cost_per_unit_delivered</th>\n      <th>fuel_cost_per_mmbtu</th>\n    </tr>\n  </thead>\n  <tbody>\n    <tr>\n      <th>count</th>\n      <td>29523.000000</td>\n      <td>29523.000000</td>\n      <td>2.952300e+04</td>\n      <td>29523.000000</td>\n      <td>29523.000000</td>\n      <td>2.952300e+04</td>\n      <td>29523.000000</td>\n    </tr>\n    <tr>\n      <th>mean</th>\n      <td>118.601836</td>\n      <td>2005.806050</td>\n      <td>2.622119e+06</td>\n      <td>8.492111</td>\n      <td>208.649031</td>\n      <td>9.175704e+02</td>\n      <td>19.304354</td>\n    </tr>\n    <tr>\n      <th>std</th>\n      <td>74.178353</td>\n      <td>7.025483</td>\n      <td>9.118004e+06</td>\n      <td>10.600220</td>\n      <td>2854.490090</td>\n      <td>6.877593e+04</td>\n      <td>2091.540939</td>\n    </tr>\n    <tr>\n      <th>min</th>\n      <td>1.000000</td>\n      <td>1994.000000</td>\n      <td>1.000000e+00</td>\n      <td>0.000001</td>\n      <td>-276.080000</td>\n      <td>-8.749370e+02</td>\n      <td>-41.501000</td>\n    </tr>\n    <tr>\n      <th>25%</th>\n      <td>55.000000</td>\n      <td>2000.000000</td>\n      <td>1.381700e+04</td>\n      <td>1.024000</td>\n      <td>5.207000</td>\n      <td>3.778500e+00</td>\n      <td>1.940000</td>\n    </tr>\n    <tr>\n      <th>50%</th>\n      <td>122.000000</td>\n      <td>2006.000000</td>\n      <td>2.533220e+05</td>\n      <td>5.762694</td>\n      <td>26.000000</td>\n      <td>1.737100e+01</td>\n      <td>4.127000</td>\n    </tr>\n    <tr>\n      <th>75%</th>\n      <td>176.000000</td>\n      <td>2012.000000</td>\n      <td>1.424034e+06</td>\n      <td>17.006000</td>\n      <td>47.113000</td>\n      <td>4.213700e+01</td>\n      <td>7.745000</td>\n    </tr>\n    <tr>\n      <th>max</th>\n      <td>514.000000</td>\n      <td>2018.000000</td>\n      <td>5.558942e+08</td>\n      <td>341.260000</td>\n      <td>139358.000000</td>\n      <td>7.964521e+06</td>\n      <td>359278.000000</td>\n    </tr>\n  </tbody>\n</table>\n</div>"
     },
     "metadata": {},
     "execution_count": 11
    }
   ],
   "source": [
    "data.describe()"
   ]
  },
  {
   "cell_type": "code",
   "execution_count": 15,
   "metadata": {},
   "outputs": [
    {
     "output_type": "execute_result",
     "data": {
      "text/plain": [
       "                record_id  utility_id_ferc1  report_year  \\\n",
       "0   f1_fuel_1994_12_1_0_7                 1         1994   \n",
       "1  f1_fuel_1994_12_1_0_10                 1         1994   \n",
       "2   f1_fuel_1994_12_2_0_1                 2         1994   \n",
       "3   f1_fuel_1994_12_2_0_7                 2         1994   \n",
       "4  f1_fuel_1994_12_2_0_10                 2         1994   \n",
       "\n",
       "       plant_name_ferc1 fuel_type_code_pudl fuel_unit  fuel_qty_burned  \\\n",
       "0              rockport                coal       ton        5377489.0   \n",
       "1  rockport total plant                coal       ton       10486945.0   \n",
       "2                gorgas                coal       ton        2978683.0   \n",
       "3                 barry                coal       ton        3739484.0   \n",
       "4             chickasaw                 gas       mcf          40533.0   \n",
       "\n",
       "   fuel_mmbtu_per_unit  fuel_cost_per_unit_burned  \\\n",
       "0               16.590                      18.59   \n",
       "1               16.592                      18.58   \n",
       "2               24.130                      39.72   \n",
       "3               23.950                      47.21   \n",
       "4                1.000                       2.77   \n",
       "\n",
       "   fuel_cost_per_unit_delivered  fuel_cost_per_mmbtu  \n",
       "0                         18.53                1.121  \n",
       "1                         18.53                1.120  \n",
       "2                         38.12                1.650  \n",
       "3                         45.99                1.970  \n",
       "4                          2.77                2.570  "
      ],
      "text/html": "<div>\n<style scoped>\n    .dataframe tbody tr th:only-of-type {\n        vertical-align: middle;\n    }\n\n    .dataframe tbody tr th {\n        vertical-align: top;\n    }\n\n    .dataframe thead th {\n        text-align: right;\n    }\n</style>\n<table border=\"1\" class=\"dataframe\">\n  <thead>\n    <tr style=\"text-align: right;\">\n      <th></th>\n      <th>record_id</th>\n      <th>utility_id_ferc1</th>\n      <th>report_year</th>\n      <th>plant_name_ferc1</th>\n      <th>fuel_type_code_pudl</th>\n      <th>fuel_unit</th>\n      <th>fuel_qty_burned</th>\n      <th>fuel_mmbtu_per_unit</th>\n      <th>fuel_cost_per_unit_burned</th>\n      <th>fuel_cost_per_unit_delivered</th>\n      <th>fuel_cost_per_mmbtu</th>\n    </tr>\n  </thead>\n  <tbody>\n    <tr>\n      <th>0</th>\n      <td>f1_fuel_1994_12_1_0_7</td>\n      <td>1</td>\n      <td>1994</td>\n      <td>rockport</td>\n      <td>coal</td>\n      <td>ton</td>\n      <td>5377489.0</td>\n      <td>16.590</td>\n      <td>18.59</td>\n      <td>18.53</td>\n      <td>1.121</td>\n    </tr>\n    <tr>\n      <th>1</th>\n      <td>f1_fuel_1994_12_1_0_10</td>\n      <td>1</td>\n      <td>1994</td>\n      <td>rockport total plant</td>\n      <td>coal</td>\n      <td>ton</td>\n      <td>10486945.0</td>\n      <td>16.592</td>\n      <td>18.58</td>\n      <td>18.53</td>\n      <td>1.120</td>\n    </tr>\n    <tr>\n      <th>2</th>\n      <td>f1_fuel_1994_12_2_0_1</td>\n      <td>2</td>\n      <td>1994</td>\n      <td>gorgas</td>\n      <td>coal</td>\n      <td>ton</td>\n      <td>2978683.0</td>\n      <td>24.130</td>\n      <td>39.72</td>\n      <td>38.12</td>\n      <td>1.650</td>\n    </tr>\n    <tr>\n      <th>3</th>\n      <td>f1_fuel_1994_12_2_0_7</td>\n      <td>2</td>\n      <td>1994</td>\n      <td>barry</td>\n      <td>coal</td>\n      <td>ton</td>\n      <td>3739484.0</td>\n      <td>23.950</td>\n      <td>47.21</td>\n      <td>45.99</td>\n      <td>1.970</td>\n    </tr>\n    <tr>\n      <th>4</th>\n      <td>f1_fuel_1994_12_2_0_10</td>\n      <td>2</td>\n      <td>1994</td>\n      <td>chickasaw</td>\n      <td>gas</td>\n      <td>mcf</td>\n      <td>40533.0</td>\n      <td>1.000</td>\n      <td>2.77</td>\n      <td>2.77</td>\n      <td>2.570</td>\n    </tr>\n  </tbody>\n</table>\n</div>"
     },
     "metadata": {},
     "execution_count": 15
    }
   ],
   "source": [
    "data.head()"
   ]
  },
  {
   "cell_type": "code",
   "execution_count": 39,
   "metadata": {},
   "outputs": [
    {
     "output_type": "execute_result",
     "data": {
      "text/plain": [
       "fuel_type_code_pudl\n",
       "coal         67.421830\n",
       "gas          13.659397\n",
       "nuclear    4955.157002\n",
       "oil         168.877086\n",
       "other        18.253856\n",
       "waste        19.518122\n",
       "Name: fuel_cost_per_unit_burned, dtype: float64"
      ]
     },
     "metadata": {},
     "execution_count": 39
    }
   ],
   "source": [
    "data.groupby('fuel_type_code_pudl')['fuel_cost_per_unit_burned'].mean()"
   ]
  },
  {
   "cell_type": "code",
   "execution_count": 8,
   "metadata": {},
   "outputs": [
    {
     "output_type": "execute_result",
     "data": {
      "text/plain": [
       "record_id                       0.000000\n",
       "utility_id_ferc1                0.000000\n",
       "report_year                     0.000000\n",
       "plant_name_ferc1                0.000000\n",
       "fuel_type_code_pudl             0.000000\n",
       "fuel_unit                       0.006097\n",
       "fuel_qty_burned                 0.000000\n",
       "fuel_mmbtu_per_unit             0.000000\n",
       "fuel_cost_per_unit_burned       0.000000\n",
       "fuel_cost_per_unit_delivered    0.000000\n",
       "fuel_cost_per_mmbtu             0.000000\n",
       "dtype: float64"
      ]
     },
     "metadata": {},
     "execution_count": 8
    }
   ],
   "source": [
    "data.isnull().sum() / len(data)"
   ]
  },
  {
   "cell_type": "code",
   "execution_count": 34,
   "metadata": {},
   "outputs": [
    {
     "output_type": "execute_result",
     "data": {
      "text/plain": [
       "651.2589365474387"
      ]
     },
     "metadata": {},
     "execution_count": 34
    }
   ],
   "source": [
    "from scipy.stats import skew, kurtosis\n",
    "skew(list(data['fuel_qty_burned']))\n",
    "kurtosis(list(data['fuel_qty_burned']))"
   ]
  },
  {
   "cell_type": "code",
   "execution_count": 35,
   "metadata": {},
   "outputs": [
    {
     "output_type": "execute_result",
     "data": {
      "text/plain": [
       "array([[1., 0., 0.],\n",
       "       [0., 1., 0.],\n",
       "       [0., 0., 1.]])"
      ]
     },
     "metadata": {},
     "execution_count": 35
    }
   ],
   "source": [
    "np.eye(3)"
   ]
  },
  {
   "cell_type": "code",
   "execution_count": 10,
   "metadata": {},
   "outputs": [
    {
     "output_type": "execute_result",
     "data": {
      "text/plain": [
       "utility_id_ferc1               -0.037863\n",
       "report_year                     0.013599\n",
       "fuel_qty_burned                -0.018535\n",
       "fuel_mmbtu_per_unit            -0.010034\n",
       "fuel_cost_per_unit_burned       1.000000\n",
       "fuel_cost_per_unit_delivered    0.011007\n",
       "fuel_cost_per_mmbtu            -0.000437\n",
       "Name: fuel_cost_per_unit_burned, dtype: float64"
      ]
     },
     "metadata": {},
     "execution_count": 10
    }
   ],
   "source": [
    "data.corr()['fuel_cost_per_unit_burned']"
   ]
  },
  {
   "cell_type": "code",
   "execution_count": 11,
   "metadata": {},
   "outputs": [
    {
     "output_type": "execute_result",
     "data": {
      "text/plain": [
       "[-0.03786270759997195,\n",
       " -0.018535416794825232,\n",
       " -0.010033808428852969,\n",
       " -0.00043721044397039907,\n",
       " 0.011007403299164893,\n",
       " 0.013599134438134063,\n",
       " 1.0]"
      ]
     },
     "metadata": {},
     "execution_count": 11
    }
   ],
   "source": [
    "sorted(list(data.corr()['fuel_cost_per_unit_burned']))"
   ]
  },
  {
   "cell_type": "code",
   "execution_count": 9,
   "metadata": {},
   "outputs": [
    {
     "output_type": "execute_result",
     "data": {
      "text/plain": [
       "       utility_id_ferc1   report_year  fuel_qty_burned  fuel_mmbtu_per_unit  \\\n",
       "count      29523.000000  29523.000000     2.952300e+04         29523.000000   \n",
       "mean         118.601836   2005.806050     2.622119e+06             8.492111   \n",
       "std           74.178353      7.025483     9.118004e+06            10.600220   \n",
       "min            1.000000   1994.000000     1.000000e+00             0.000001   \n",
       "25%           55.000000   2000.000000     1.381700e+04             1.024000   \n",
       "50%          122.000000   2006.000000     2.533220e+05             5.762694   \n",
       "75%          176.000000   2012.000000     1.424034e+06            17.006000   \n",
       "max          514.000000   2018.000000     5.558942e+08           341.260000   \n",
       "\n",
       "       fuel_cost_per_unit_burned  fuel_cost_per_unit_delivered  \\\n",
       "count               29523.000000                  2.952300e+04   \n",
       "mean                  208.649031                  9.175704e+02   \n",
       "std                  2854.490090                  6.877593e+04   \n",
       "min                  -276.080000                 -8.749370e+02   \n",
       "25%                     5.207000                  3.778500e+00   \n",
       "50%                    26.000000                  1.737100e+01   \n",
       "75%                    47.113000                  4.213700e+01   \n",
       "max                139358.000000                  7.964521e+06   \n",
       "\n",
       "       fuel_cost_per_mmbtu  \n",
       "count         29523.000000  \n",
       "mean             19.304354  \n",
       "std            2091.540939  \n",
       "min             -41.501000  \n",
       "25%               1.940000  \n",
       "50%               4.127000  \n",
       "75%               7.745000  \n",
       "max          359278.000000  "
      ],
      "text/html": "<div>\n<style scoped>\n    .dataframe tbody tr th:only-of-type {\n        vertical-align: middle;\n    }\n\n    .dataframe tbody tr th {\n        vertical-align: top;\n    }\n\n    .dataframe thead th {\n        text-align: right;\n    }\n</style>\n<table border=\"1\" class=\"dataframe\">\n  <thead>\n    <tr style=\"text-align: right;\">\n      <th></th>\n      <th>utility_id_ferc1</th>\n      <th>report_year</th>\n      <th>fuel_qty_burned</th>\n      <th>fuel_mmbtu_per_unit</th>\n      <th>fuel_cost_per_unit_burned</th>\n      <th>fuel_cost_per_unit_delivered</th>\n      <th>fuel_cost_per_mmbtu</th>\n    </tr>\n  </thead>\n  <tbody>\n    <tr>\n      <th>count</th>\n      <td>29523.000000</td>\n      <td>29523.000000</td>\n      <td>2.952300e+04</td>\n      <td>29523.000000</td>\n      <td>29523.000000</td>\n      <td>2.952300e+04</td>\n      <td>29523.000000</td>\n    </tr>\n    <tr>\n      <th>mean</th>\n      <td>118.601836</td>\n      <td>2005.806050</td>\n      <td>2.622119e+06</td>\n      <td>8.492111</td>\n      <td>208.649031</td>\n      <td>9.175704e+02</td>\n      <td>19.304354</td>\n    </tr>\n    <tr>\n      <th>std</th>\n      <td>74.178353</td>\n      <td>7.025483</td>\n      <td>9.118004e+06</td>\n      <td>10.600220</td>\n      <td>2854.490090</td>\n      <td>6.877593e+04</td>\n      <td>2091.540939</td>\n    </tr>\n    <tr>\n      <th>min</th>\n      <td>1.000000</td>\n      <td>1994.000000</td>\n      <td>1.000000e+00</td>\n      <td>0.000001</td>\n      <td>-276.080000</td>\n      <td>-8.749370e+02</td>\n      <td>-41.501000</td>\n    </tr>\n    <tr>\n      <th>25%</th>\n      <td>55.000000</td>\n      <td>2000.000000</td>\n      <td>1.381700e+04</td>\n      <td>1.024000</td>\n      <td>5.207000</td>\n      <td>3.778500e+00</td>\n      <td>1.940000</td>\n    </tr>\n    <tr>\n      <th>50%</th>\n      <td>122.000000</td>\n      <td>2006.000000</td>\n      <td>2.533220e+05</td>\n      <td>5.762694</td>\n      <td>26.000000</td>\n      <td>1.737100e+01</td>\n      <td>4.127000</td>\n    </tr>\n    <tr>\n      <th>75%</th>\n      <td>176.000000</td>\n      <td>2012.000000</td>\n      <td>1.424034e+06</td>\n      <td>17.006000</td>\n      <td>47.113000</td>\n      <td>4.213700e+01</td>\n      <td>7.745000</td>\n    </tr>\n    <tr>\n      <th>max</th>\n      <td>514.000000</td>\n      <td>2018.000000</td>\n      <td>5.558942e+08</td>\n      <td>341.260000</td>\n      <td>139358.000000</td>\n      <td>7.964521e+06</td>\n      <td>359278.000000</td>\n    </tr>\n  </tbody>\n</table>\n</div>"
     },
     "metadata": {},
     "execution_count": 9
    }
   ],
   "source": [
    "data.describe()"
   ]
  },
  {
   "cell_type": "code",
   "execution_count": 14,
   "metadata": {},
   "outputs": [
    {
     "output_type": "execute_result",
     "data": {
      "text/plain": [
       "report_year\n",
       "1994       63.636060\n",
       "1995       32.735269\n",
       "1996     9196.705948\n",
       "1997    11140.197239\n",
       "1998      287.154420\n",
       "1999       25.551627\n",
       "2000      985.362877\n",
       "2001       60.050396\n",
       "2002       47.594361\n",
       "2003       55.663493\n",
       "2004      139.524275\n",
       "2005       41.438184\n",
       "2006       38.657484\n",
       "2007       43.325023\n",
       "2008       58.588197\n",
       "2009      652.694163\n",
       "2010       91.862105\n",
       "2011       59.774667\n",
       "2012       60.994502\n",
       "2013      172.307591\n",
       "2014      192.737183\n",
       "2015      326.535511\n",
       "2016      103.901761\n",
       "2017       46.196861\n",
       "2018      499.269966\n",
       "Name: fuel_cost_per_unit_delivered, dtype: float64"
      ]
     },
     "metadata": {},
     "execution_count": 14
    }
   ],
   "source": [
    "data.groupby('report_year')['fuel_cost_per_unit_delivered'].mean()"
   ]
  },
  {
   "cell_type": "code",
   "execution_count": 23,
   "metadata": {},
   "outputs": [
    {
     "output_type": "execute_result",
     "data": {
      "text/plain": [
       "                                  record_id  utility_id_ferc1  report_year  \\\n",
       "fuel_type_code_pudl                                                          \n",
       "coal                  f1_fuel_1994_12_1_0_7                 1         1994   \n",
       "gas                  f1_fuel_1994_12_2_0_10                 2         1994   \n",
       "nuclear               f1_fuel_1994_12_2_1_1                 2         1994   \n",
       "oil                   f1_fuel_1994_12_6_0_2                 6         1994   \n",
       "other                f1_fuel_1994_12_11_0_6                11         1994   \n",
       "waste                 f1_fuel_1994_12_9_0_3                 9         1994   \n",
       "\n",
       "                     plant_name_ferc1 fuel_unit  fuel_qty_burned  \\\n",
       "fuel_type_code_pudl                                                \n",
       "coal                         rockport       ton        5377489.0   \n",
       "gas                         chickasaw       mcf          40533.0   \n",
       "nuclear              joseph m. farley       kgU           2260.0   \n",
       "oil                      clinch river       bbl           6510.0   \n",
       "other                      w.f. wyman       bbl          55652.0   \n",
       "waste                    b.l. england       ton           2438.0   \n",
       "\n",
       "                     fuel_mmbtu_per_unit  fuel_cost_per_unit_burned  \\\n",
       "fuel_type_code_pudl                                                   \n",
       "coal                           16.590000                     18.590   \n",
       "gas                             1.000000                      2.770   \n",
       "nuclear                         0.064094                     28.770   \n",
       "oil                             5.875338                     32.130   \n",
       "other                           0.149719                     14.685   \n",
       "waste                           0.015939                     34.180   \n",
       "\n",
       "                     fuel_cost_per_unit_delivered  fuel_cost_per_mmbtu  \n",
       "fuel_type_code_pudl                                                     \n",
       "coal                                       18.530                1.121  \n",
       "gas                                         2.770                2.570  \n",
       "nuclear                                     0.000                0.450  \n",
       "oil                                        23.444                5.469  \n",
       "other                                      15.090                2.335  \n",
       "waste                                      34.180                1.072  "
      ],
      "text/html": "<div>\n<style scoped>\n    .dataframe tbody tr th:only-of-type {\n        vertical-align: middle;\n    }\n\n    .dataframe tbody tr th {\n        vertical-align: top;\n    }\n\n    .dataframe thead th {\n        text-align: right;\n    }\n</style>\n<table border=\"1\" class=\"dataframe\">\n  <thead>\n    <tr style=\"text-align: right;\">\n      <th></th>\n      <th>record_id</th>\n      <th>utility_id_ferc1</th>\n      <th>report_year</th>\n      <th>plant_name_ferc1</th>\n      <th>fuel_unit</th>\n      <th>fuel_qty_burned</th>\n      <th>fuel_mmbtu_per_unit</th>\n      <th>fuel_cost_per_unit_burned</th>\n      <th>fuel_cost_per_unit_delivered</th>\n      <th>fuel_cost_per_mmbtu</th>\n    </tr>\n    <tr>\n      <th>fuel_type_code_pudl</th>\n      <th></th>\n      <th></th>\n      <th></th>\n      <th></th>\n      <th></th>\n      <th></th>\n      <th></th>\n      <th></th>\n      <th></th>\n      <th></th>\n    </tr>\n  </thead>\n  <tbody>\n    <tr>\n      <th>coal</th>\n      <td>f1_fuel_1994_12_1_0_7</td>\n      <td>1</td>\n      <td>1994</td>\n      <td>rockport</td>\n      <td>ton</td>\n      <td>5377489.0</td>\n      <td>16.590000</td>\n      <td>18.590</td>\n      <td>18.530</td>\n      <td>1.121</td>\n    </tr>\n    <tr>\n      <th>gas</th>\n      <td>f1_fuel_1994_12_2_0_10</td>\n      <td>2</td>\n      <td>1994</td>\n      <td>chickasaw</td>\n      <td>mcf</td>\n      <td>40533.0</td>\n      <td>1.000000</td>\n      <td>2.770</td>\n      <td>2.770</td>\n      <td>2.570</td>\n    </tr>\n    <tr>\n      <th>nuclear</th>\n      <td>f1_fuel_1994_12_2_1_1</td>\n      <td>2</td>\n      <td>1994</td>\n      <td>joseph m. farley</td>\n      <td>kgU</td>\n      <td>2260.0</td>\n      <td>0.064094</td>\n      <td>28.770</td>\n      <td>0.000</td>\n      <td>0.450</td>\n    </tr>\n    <tr>\n      <th>oil</th>\n      <td>f1_fuel_1994_12_6_0_2</td>\n      <td>6</td>\n      <td>1994</td>\n      <td>clinch river</td>\n      <td>bbl</td>\n      <td>6510.0</td>\n      <td>5.875338</td>\n      <td>32.130</td>\n      <td>23.444</td>\n      <td>5.469</td>\n    </tr>\n    <tr>\n      <th>other</th>\n      <td>f1_fuel_1994_12_11_0_6</td>\n      <td>11</td>\n      <td>1994</td>\n      <td>w.f. wyman</td>\n      <td>bbl</td>\n      <td>55652.0</td>\n      <td>0.149719</td>\n      <td>14.685</td>\n      <td>15.090</td>\n      <td>2.335</td>\n    </tr>\n    <tr>\n      <th>waste</th>\n      <td>f1_fuel_1994_12_9_0_3</td>\n      <td>9</td>\n      <td>1994</td>\n      <td>b.l. england</td>\n      <td>ton</td>\n      <td>2438.0</td>\n      <td>0.015939</td>\n      <td>34.180</td>\n      <td>34.180</td>\n      <td>1.072</td>\n    </tr>\n  </tbody>\n</table>\n</div>"
     },
     "metadata": {},
     "execution_count": 23
    }
   ],
   "source": [
    "data.groupby('fuel_type_code_pudl').nth(0)"
   ]
  }
 ]
}